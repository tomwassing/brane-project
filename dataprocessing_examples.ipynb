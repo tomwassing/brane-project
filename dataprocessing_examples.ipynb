{
 "cells": [
  {
   "cell_type": "code",
   "execution_count": 1,
   "id": "422cf3a3-2d35-4651-9d3d-037f898927eb",
   "metadata": {},
   "outputs": [],
   "source": [
    "import sklearn;"
   ]
  },
  {
   "cell_type": "markdown",
   "id": "090680f3-5441-43df-a3c1-31f07b8a3d6e",
   "metadata": {},
   "source": [
    "Either choose a dataset with the load_dataset param or create your own dataset. \n",
    "\n",
    "Check the GitHub repository for options."
   ]
  },
  {
   "cell_type": "code",
   "execution_count": 2,
   "id": "ebadc07b-4e7b-4322-9cab-cb46b05a2202",
   "metadata": {},
   "outputs": [
    {
     "name": "stdout",
     "output_type": "stream",
     "text": [
      "[[0.00632, 18.0, 2.31, 0.0, 0.538, NaN, 65.2, 4.09, 1.0, 296.0, 15.3, 396.9, NaN], [0.02731, 0.0, 7.07, 0.0, 0.469, 6.421, 78.9, 4.9671, 2.0, 242.0, 17.8, 396.9, 9.14]]\n"
     ]
    }
   ],
   "source": [
    "let data := \"[[0.00632, 18.0, 2.31, 0.0, 0.538, NaN, 65.2, 4.09, 1.0, 296.0, 15.3, 396.9, NaN], [0.02731, 0.0, 7.07, 0.0, 0.469, 6.421, 78.9, 4.9671, 2.0, 242.0, 17.8, 396.9, 9.14]]\";\n",
    "print(data);"
   ]
  },
  {
   "cell_type": "markdown",
   "id": "a42c7575-9a03-41f0-9458-a9408cdbbc0b",
   "metadata": {},
   "source": [
    "Let us remove all NaN values from the dataset above.\n",
    "\n",
    "For this example we take set all NaN values to a constant value of 42."
   ]
  },
  {
   "cell_type": "code",
   "execution_count": 3,
   "id": "e9af9228-44f3-4bfa-8a59-74e3721ea80d",
   "metadata": {},
   "outputs": [
    {
     "name": "stdout",
     "output_type": "stream",
     "text": [
      "[[0.00632, 18.0, 2.31, 0.0, 0.538, 42.0, 65.2, 4.09, 1.0, 296.0, 15.3, 396.9, 42.0], [0.02731, 0.0, 7.07, 0.0, 0.469, 6.421, 78.9, 4.9671, 2.0, 242.0, 17.8, 396.9, 9.14]]\n"
     ]
    }
   ],
   "source": [
    "data := simple_imputer(data, \"constant\", \"42\");\n",
    "print(data);"
   ]
  },
  {
   "cell_type": "markdown",
   "id": "ff9037e2-d19e-4201-b7d1-f1c81a8385ed",
   "metadata": {},
   "source": [
    "Normalize the data using the `normalize()` funciton"
   ]
  },
  {
   "cell_type": "code",
   "execution_count": 4,
   "id": "bb2ac11b-bf48-48e5-8192-bd318f3e20fb",
   "metadata": {},
   "outputs": [
    {
     "name": "stdout",
     "output_type": "stream",
     "text": [
      "[[1.2552287466025874e-05, 0.03575018582095977, 0.004587940513689837, 0.0, 0.0010685333317597976, 0.08341710024890613, 0.12949511752925427, 0.008123236667095858, 0.001986121434497765, 0.5878919446113384, 0.030387657947815803, 0.7882915973521628, 0.08341710024890613], [5.785298888267446e-05, 0.0, 0.014976954646668195, 0.0, 0.0009935207537888802, 0.013602125288013647, 0.1671402717994513, 0.010522210951268119, 0.004236762276285204, 0.5126482354305096, 0.03770718425893831, 0.8407854737287986, 0.01936200360262338]]\n"
     ]
    }
   ],
   "source": [
    "data := normalize(data);\n",
    "print(data);"
   ]
  },
  {
   "cell_type": "markdown",
   "id": "ba672160-a832-4172-8edc-d5604fd78983",
   "metadata": {},
   "source": [
    "Finally, we can apply a PCA transform on the normalised dataset."
   ]
  },
  {
   "cell_type": "code",
   "execution_count": 5,
   "id": "2bac6a66-b9eb-4604-9645-eaf94db4d040",
   "metadata": {},
   "outputs": [
    {
     "name": "stdout",
     "output_type": "stream",
     "text": [
      "[[-0.07117228676015526, 5.197175422049341e-17], [0.07117228676015533, 5.1971754220493353e-17]]\n"
     ]
    }
   ],
   "source": [
    "let result := pca_fit_transform(data, \"2\");\n",
    "print(result);"
   ]
  },
  {
   "cell_type": "code",
   "execution_count": null,
   "id": "950fbead-d791-4d82-9bea-59184866b8bb",
   "metadata": {},
   "outputs": [],
   "source": []
  }
 ],
 "metadata": {
  "kernelspec": {
   "display_name": "BraneScript",
   "language": "text",
   "name": "bscript"
  },
  "language_info": {
   "file_extension": ".bk",
   "mimetype": "text/plain",
   "name": "BraneScript"
  }
 },
 "nbformat": 4,
 "nbformat_minor": 5
}
